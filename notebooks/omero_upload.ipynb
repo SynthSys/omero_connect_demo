{
 "cells": [
  {
   "cell_type": "markdown",
   "metadata": {},
   "source": [
    "# Notebook for uploading a data set with description into an OMERO server\n"
   ]
  },
  {
   "cell_type": "code",
   "execution_count": null,
   "metadata": {},
   "outputs": [],
   "source": [
    "import os\n",
    "import sys\n",
    "import getpass\n",
    "from pyomero_upload.pyomero_upload import PyOmeroUploader"
   ]
  },
  {
   "cell_type": "code",
   "execution_count": null,
   "metadata": {},
   "outputs": [],
   "source": [
    "# configure connection settings\n",
    "server = 'demo.openmicroscopy.org'\n",
    "user = 'USER'\n",
    "password = getpass.getpass()"
   ]
  },
  {
   "cell_type": "code",
   "execution_count": null,
   "metadata": {},
   "outputs": [],
   "source": [
    "uploader = PyOmeroUploader(user, password, server)"
   ]
  },
  {
   "cell_type": "code",
   "execution_count": null,
   "metadata": {},
   "outputs": [],
   "source": [
    "# defining data to upload\n",
    "data_path = '/home/jovyan/work/test_data'\n",
    "dataset_name = 'Upload from Jupyter'"
   ]
  },
  {
   "cell_type": "code",
   "execution_count": null,
   "metadata": {},
   "outputs": [],
   "source": [
    "# data upload with hybercubes\n",
    "# The 'True' argument instructs the uploader to process and deposit image files as hypercubes\n",
    "dId = uploader.launch_upload(dataset_name, data_path, True)"
   ]
  },
  {
   "cell_type": "code",
   "execution_count": null,
   "metadata": {},
   "outputs": [],
   "source": [
    "print(dId)"
   ]
  },
  {
   "cell_type": "code",
   "execution_count": null,
   "metadata": {},
   "outputs": [],
   "source": [
    "# searching for the upload\n",
    "\n",
    "# should be \n",
    "searcher = uploader.searcher()"
   ]
  },
  {
   "cell_type": "code",
   "execution_count": null,
   "metadata": {},
   "outputs": [],
   "source": [
    "import omero_data_transfer.omero_data_broker as data_broker\n",
    "from omero import sys as om_sys\n",
    "from omero import rtypes\n",
    "\n",
    "#query = \"select d from Dataset d where d.name = :dname\"\n",
    "query = \"select d from Dataset d where d.id = :did\"\n",
    "\n",
    "params = om_sys.Parameters()\n",
    "params.map = {'dname' : rtypes.rstring(dataset_name)}\n",
    "params.map = {'did' : rtypes.rlong(dId)}\n",
    "\n",
    "datasets = searcher.find_objects_by_query(query, params)"
   ]
  },
  {
   "cell_type": "code",
   "execution_count": null,
   "metadata": {},
   "outputs": [],
   "source": [
    "dataset = datasets[0]\n",
    "#dataset = datasets\n",
    "print(dataset.name.val)"
   ]
  }
 ],
 "metadata": {
  "kernelspec": {
   "display_name": "Python 3",
   "language": "python",
   "name": "python3"
  },
  "language_info": {
   "codemirror_mode": {
    "name": "ipython",
    "version": 3
   },
   "file_extension": ".py",
   "mimetype": "text/x-python",
   "name": "python",
   "nbconvert_exporter": "python",
   "pygments_lexer": "ipython3",
   "version": "3.7.6"
  }
 },
 "nbformat": 4,
 "nbformat_minor": 2
}

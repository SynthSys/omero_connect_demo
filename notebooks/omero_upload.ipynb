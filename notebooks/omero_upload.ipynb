{
 "cells": [
  {
   "cell_type": "markdown",
   "metadata": {},
   "source": [
    "# Notebook for uploading a data set with description into a OMERO server\n"
   ]
  },
  {
   "cell_type": "code",
   "execution_count": 1,
   "metadata": {},
   "outputs": [],
   "source": [
    "import os\n",
    "import sys\n",
    "import getpass\n",
    "from pyomero_upload.pyomero_upload import PyOmeroUploader\n"
   ]
  },
  {
   "cell_type": "code",
   "execution_count": 3,
   "metadata": {},
   "outputs": [
    {
     "name": "stdout",
     "output_type": "stream",
     "text": [
      "········\n"
     ]
    }
   ],
   "source": [
    "# configure connection settings\n",
    "server = 'demo.openmicroscopy.org'\n",
    "user = 'USER'\n",
    "password = getpass.getpass()"
   ]
  },
  {
   "cell_type": "code",
   "execution_count": 4,
   "metadata": {},
   "outputs": [],
   "source": [
    "uploader = PyOmeroUploader(user, password, server)"
   ]
  },
  {
   "cell_type": "code",
   "execution_count": 5,
   "metadata": {},
   "outputs": [],
   "source": [
    "# defining data to upload\n",
    "data_path = '/home/jovyan/work/test_data'\n",
    "dataset_name = 'Upload from Jupyter2'\n",
    "\n"
   ]
  },
  {
   "cell_type": "code",
   "execution_count": 6,
   "metadata": {},
   "outputs": [
    {
     "name": "stdout",
     "output_type": "stream",
     "text": [
      "Compare morphology markers across microscopes\n",
      "\n",
      "Authors: \n",
      "\n",
      "\n",
      "Strains: \n",
      "Htb2-GFP, Myo1-GFP, Hog1-GFP, Lte1-GFP, Vph1-GFP\n",
      "\n",
      "Comments: \n",
      "Low OD O/N. Log growth from OD0.1 for four hours.\n",
      "Number of hypercubes uploaded: 3\n",
      "Uploaded Dataset ID: 3832\n",
      "Uploaded Dataset URL: http://demo.openmicroscopy.org/webclient/?show=dataset-3832\n"
     ]
    }
   ],
   "source": [
    "# data upload with hybercubes\n",
    "\n",
    "dId = uploader.launch_upload(dataset_name, data_path, True)"
   ]
  },
  {
   "cell_type": "code",
   "execution_count": 7,
   "metadata": {},
   "outputs": [
    {
     "name": "stdout",
     "output_type": "stream",
     "text": [
      "3832\n"
     ]
    }
   ],
   "source": [
    "print dId"
   ]
  },
  {
   "cell_type": "code",
   "execution_count": 8,
   "metadata": {},
   "outputs": [],
   "source": [
    "# searching for the upload\n",
    "\n",
    "# should be \n",
    "searcher = uploader.searcher()\n",
    "\n",
    "import omero_data_transfer.omero_data_broker as data_broker\n",
    "from omero import sys as om_sys\n",
    "from omero import rtypes\n",
    "#searcher = data_broker.OMERODataBroker(user, password, server, 4064)\n",
    "#searcher.open_omero_session()"
   ]
  },
  {
   "cell_type": "code",
   "execution_count": 9,
   "metadata": {},
   "outputs": [],
   "source": [
    "\n",
    "#query = \"select d from Dataset d where d.name = :dname\"\n",
    "query = \"select d from Dataset d where d.id = :did\"\n",
    "\n",
    "params = om_sys.Parameters()\n",
    "params.map = {'dname' : rtypes.rstring(dataset_name)}\n",
    "params.map = {'did' : rtypes.rlong(dId)}\n",
    "\n",
    "# implementatin should call findAllByQuery not findObject\n",
    "datasets = searcher.find_objects_by_query(query, params)\n",
    "\n",
    "\n",
    "#queryService = searcher.SESSION.getQueryService()\n",
    "#datasets = queryService.findAllByQuery(query, params)\n"
   ]
  },
  {
   "cell_type": "code",
   "execution_count": 10,
   "metadata": {},
   "outputs": [
    {
     "name": "stdout",
     "output_type": "stream",
     "text": [
      "Upload from Jupyter2\n"
     ]
    }
   ],
   "source": [
    "dataset = datasets[0]\n",
    "#dataset = datasets\n",
    "print(dataset.name.val)"
   ]
  },
  {
   "cell_type": "code",
   "execution_count": null,
   "metadata": {},
   "outputs": [],
   "source": []
  },
  {
   "cell_type": "code",
   "execution_count": null,
   "metadata": {},
   "outputs": [],
   "source": []
  },
  {
   "cell_type": "code",
   "execution_count": null,
   "metadata": {},
   "outputs": [],
   "source": []
  },
  {
   "cell_type": "code",
   "execution_count": null,
   "metadata": {},
   "outputs": [],
   "source": []
  },
  {
   "cell_type": "code",
   "execution_count": null,
   "metadata": {},
   "outputs": [],
   "source": []
  },
  {
   "cell_type": "code",
   "execution_count": null,
   "metadata": {},
   "outputs": [],
   "source": []
  },
  {
   "cell_type": "code",
   "execution_count": null,
   "metadata": {},
   "outputs": [],
   "source": []
  },
  {
   "cell_type": "code",
   "execution_count": null,
   "metadata": {},
   "outputs": [],
   "source": []
  }
 ],
 "metadata": {
  "kernelspec": {
   "display_name": "Python 3",
   "language": "python",
   "name": "python3"
  },
  "language_info": {
   "codemirror_mode": {
    "name": "ipython",
    "version": 3
   },
   "file_extension": ".py",
   "mimetype": "text/x-python",
   "name": "python",
   "nbconvert_exporter": "python",
   "pygments_lexer": "ipython3",
   "version": "3.7.6"
  }
 },
 "nbformat": 4,
 "nbformat_minor": 2
}

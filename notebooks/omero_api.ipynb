{
 "cells": [
  {
   "cell_type": "code",
   "execution_count": null,
   "metadata": {},
   "outputs": [],
   "source": [
    "#!/usr/bin/env python\n",
    "# -*- coding: utf-8 -*-\n",
    "\n",
    "# https://github.com/ome/openmicroscopy/blob/develop/examples/Training/python/Json_Api/Login.py\n",
    "# https://docs.openmicroscopy.org/omero/5.6.1/developers/json-api.html\n",
    "\n",
    "import requests\n",
    "import getpass\n",
    "\n",
    "USERNAME = \"USER\"\n",
    "OMERO_WEB_HOST = \"https://demo.openmicroscopy.org\"\n",
    "SERVER_NAME = \"omero\"\n",
    "SESSION = requests.Session()\n",
    "PASSWORD = getpass.getpass()"
   ]
  },
  {
   "cell_type": "code",
   "execution_count": null,
   "metadata": {},
   "outputs": [],
   "source": [
    "# Start by getting supported versions from the base url...\n",
    "api_url = '{0}/api/'.format(OMERO_WEB_HOST)\n",
    "print(\"Starting at:\", api_url)\n",
    "r = SESSION.get(api_url)\n",
    "# we get a list of versions\n",
    "versions = r.json()['data']\n",
    "\n",
    "# use most recent version...\n",
    "version = versions[-1]\n",
    "# get the 'base' url\n",
    "base_url = version['url:base']\n",
    "r = SESSION.get(base_url)\n",
    "# which lists a bunch of urls as starting points\n",
    "urls = r.json()\n",
    "print(urls)\n",
    "servers_url = urls['url:servers']\n",
    "login_url = urls['url:login']\n",
    "projects_url = urls['url:projects']\n",
    "datasets_url = urls['url:datasets']\n",
    "images_url = urls['url:images']\n",
    "save_url = urls['url:save']\n",
    "schema_url = urls['url:schema']"
   ]
  },
  {
   "cell_type": "code",
   "execution_count": null,
   "metadata": {},
   "outputs": [],
   "source": [
    "# To login we need to get CSRF token\n",
    "token_url = urls['url:token']\n",
    "token = SESSION.get(token_url).json()['data']\n",
    "print('CSRF token', token)\n",
    "# We add this to our session header\n",
    "# Needed for all POST, PUT, DELETE requests\n",
    "SESSION.headers.update({'X-CSRFToken': token,\n",
    "                        'Referer': login_url})"
   ]
  },
  {
   "cell_type": "code",
   "execution_count": null,
   "metadata": {},
   "outputs": [],
   "source": [
    "# List the servers available to connect to\n",
    "servers = SESSION.get(servers_url).json()['data']\n",
    "print('Servers:')\n",
    "for s in servers:\n",
    "    print('-id:', s['id'])\n",
    "    print(' name:', s['server'])\n",
    "    print(' host:', s['host'])\n",
    "    print(' port:', s['port'])\n",
    "# find one called SERVER_NAME\n",
    "servers = [s for s in servers if s['server'] == SERVER_NAME]\n",
    "if len(servers) < 1:\n",
    "    raise Exception(\"Found no server called '%s'\" % SERVER_NAME)\n",
    "server = servers[0]\n",
    "\n",
    "# Login with username, password and token\n",
    "payload = {'username': USERNAME,\n",
    "           'password': PASSWORD,\n",
    "           # 'csrfmiddlewaretoken': token,  # Using CSRFToken in header instead\n",
    "           'server': server['id']}\n",
    "\n",
    "r = SESSION.post(login_url, data=payload)\n",
    "login_rsp = r.json()\n",
    "assert r.status_code == 200\n",
    "assert login_rsp['success']\n",
    "eventContext = login_rsp['eventContext']\n",
    "print('eventContext', eventContext)\n",
    "# Can get our 'default' group\n",
    "groupId = eventContext['groupId']"
   ]
  },
  {
   "cell_type": "code",
   "execution_count": null,
   "metadata": {},
   "outputs": [],
   "source": [
    "# With successful login, request.session will contain\n",
    "# OMERO session details and reconnect to OMERO on\n",
    "# each subsequent call...\n",
    "\n",
    "# List projects:\n",
    "# Limit number of projects per page\n",
    "payload = {'limit': 2}\n",
    "data = SESSION.get(projects_url, params=payload).json()\n",
    "assert len(data['data']) < 3\n",
    "print(\"Projects:\")\n",
    "for p in data['data']:\n",
    "    print('  ', p['@id'], p['Name'])"
   ]
  },
  {
   "cell_type": "code",
   "execution_count": null,
   "metadata": {},
   "outputs": [],
   "source": [
    "# List datasets:\n",
    "# Limit number of datasets per page\n",
    "payload = {'limit': 2}\n",
    "data = SESSION.get(datasets_url, params=payload).json()\n",
    "assert len(data['data']) < 3\n",
    "print(\"Datasets:\")\n",
    "for d in data['data']:\n",
    "    print('  ', d['@id'], d['Name'])"
   ]
  },
  {
   "cell_type": "code",
   "execution_count": null,
   "metadata": {},
   "outputs": [],
   "source": [
    "# Get images in datasets\n",
    "payload = {'limit': 2}\n",
    "data = SESSION.get(datasets_url, params=payload).json()\n",
    "assert len(data['data']) < 3\n",
    "\n",
    "for d in data['data']:\n",
    "    dataset_images_url = '{0}{1}/images/'.format(datasets_url, d['@id'])\n",
    "    \n",
    "    data = SESSION.get(dataset_images_url, params=payload).json()\n",
    "    assert len(data['data']) < 3\n",
    "    print(\"Images:\")\n",
    "    \n",
    "    for i in data['data']:\n",
    "        print('  ', i['@id'], i['Name'])\n",
    "        \n",
    "        # Get image details\n",
    "        image_details_url = '{0}{1}/'.format(images_url, i['@id'])\n",
    "        data = SESSION.get(image_details_url, params=payload).json()\n",
    "\n",
    "        print('  ', \"Image details:\")\n",
    "        \n",
    "        sizeX = data['data']['Pixels']['SizeX']\n",
    "        sizeY = data['data']['Pixels']['SizeY']\n",
    "        sizeZ = data['data']['Pixels']['SizeZ']\n",
    "        sizeC = data['data']['Pixels']['SizeC']\n",
    "        sizeT = data['data']['Pixels']['SizeT']\n",
    "        \n",
    "        print('  ','  ',\n",
    "              \"SizeX: {0}, SizeY: {1}, SizeZ: {2}, SizeC: {3}, SizeT: {4}\"\n",
    "              .format(sizeX, sizeY, sizeZ, sizeC, sizeT))\n",
    "        channels = data['data']['Pixels']['Channels']\n",
    "        print('  ','  ',\"Number of channels: {0}\".format(len(channels)))"
   ]
  },
  {
   "cell_type": "code",
   "execution_count": null,
   "metadata": {},
   "outputs": [],
   "source": []
  }
 ],
 "metadata": {
  "kernelspec": {
   "display_name": "Python 3",
   "language": "python",
   "name": "python3"
  },
  "language_info": {
   "codemirror_mode": {
    "name": "ipython",
    "version": 3
   },
   "file_extension": ".py",
   "mimetype": "text/x-python",
   "name": "python",
   "nbconvert_exporter": "python",
   "pygments_lexer": "ipython3",
   "version": "3.7.6"
  }
 },
 "nbformat": 4,
 "nbformat_minor": 2
}
